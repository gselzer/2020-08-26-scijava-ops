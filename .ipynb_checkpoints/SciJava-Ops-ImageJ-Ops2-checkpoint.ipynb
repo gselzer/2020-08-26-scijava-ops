{
 "cells": [
  {
   "cell_type": "markdown",
   "metadata": {
    "slideshow": {
     "slide_type": "slide"
    }
   },
   "source": [
    "## ImageJ Ops2\n",
    "A scientific algorithm framework combined with a bevy of image processing algorithms\n",
    "\n"
   ]
  },
  {
   "cell_type": "markdown",
   "metadata": {
    "slideshow": {
     "slide_type": "slide"
    }
   },
   "source": [
    "## Motivations \n",
    "\n",
    "The algorithm framework should prioritize:"
   ]
  },
  {
   "cell_type": "markdown",
   "metadata": {
    "slideshow": {
     "slide_type": "fragment"
    }
   },
   "source": [
    "1. **Ease of Use**: Image processing algorithms should be easy to access and simple to call."
   ]
  },
  {
   "cell_type": "markdown",
   "metadata": {
    "slideshow": {
     "slide_type": "fragment"
    }
   },
   "source": [
    "2. **Portability**: ImageJ Ops2 should extend Java's mantra of \"write once, run anywhere\". Ops should be usable as-is from any SciJava-compatible software, such as ImageJ or KNIME."
   ]
  },
  {
   "cell_type": "markdown",
   "metadata": {
    "slideshow": {
     "slide_type": "fragment"
    }
   },
   "source": [
    "3. **Reproducibility**: Algorithms should be deterministic: calling the same op twice with the same arguments must yield the same result."
   ]
  },
  {
   "cell_type": "markdown",
   "metadata": {
    "slideshow": {
     "slide_type": "fragment"
    }
   },
   "source": [
    "4. **Extensibility**: Algorithms can operate on any number of arbitrary data structures. The framework should accomodate (and promote) the addition of new algorithms\n",
    "\n",
    "<div style=\"text-align: right\">Adapted from <a href=https://github.com/imagej/tutorials/blob/master/notebooks/1-Using-ImageJ/2-ImageJ-Ops.ipynb)><code>imagej/tutorials</code></a></div>"
   ]
  },
  {
   "cell_type": "markdown",
   "metadata": {
    "slideshow": {
     "slide_type": "subslide"
    }
   },
   "source": [
    "### Op(eration)s\n",
    "An Op is an implementation of an algorithm that declares a set of preconditions:"
   ]
  },
  {
   "cell_type": "markdown",
   "metadata": {
    "slideshow": {
     "slide_type": "fragment"
    }
   },
   "source": [
    "* Ops **must** be deterministic"
   ]
  },
  {
   "cell_type": "markdown",
   "metadata": {
    "slideshow": {
     "slide_type": "fragment"
    }
   },
   "source": [
    "* Ops **must** accept specific kinds of inputs and produce specific kinds of outputs\n",
    "  * An Op can be defined on an image **of** integer values, or can be defined on a more specific type (like a byte)"
   ]
  },
  {
   "cell_type": "markdown",
   "metadata": {
    "slideshow": {
     "slide_type": "fragment"
    }
   },
   "source": [
    "`<T extends RealType<T>> Img<T> math.add(Img<T> img1, Img<T> img2)`\n",
    "\n",
    "This is an Op that adds two images whose values exist within $ R^n $, producing another image whose values exist **within the same numerical space**."
   ]
  },
  {
   "cell_type": "markdown",
   "metadata": {
    "slideshow": {
     "slide_type": "subslide"
    }
   },
   "source": [
    "### Flavors of Ops"
   ]
  },
  {
   "cell_type": "markdown",
   "metadata": {
    "slideshow": {
     "slide_type": "subslide"
    }
   },
   "source": [
    "#### Functions\n",
    "\n",
    "Given inputs $i_1, i_2, ..., i_n$, produce one output $o$ "
   ]
  },
  {
   "cell_type": "markdown",
   "metadata": {
    "slideshow": {
     "slide_type": "fragment"
    }
   },
   "source": [
    "Benefits:\n",
    "* Convenience - output is given to you"
   ]
  },
  {
   "cell_type": "markdown",
   "metadata": {
    "slideshow": {
     "slide_type": "fragment"
    }
   },
   "source": [
    "`<T extends RealType<T>> Img<T> math.add(Img<T> img1, Img<T> img2)`\n",
    "\n",
    "This  Op adds two images whose values exist within $ R^n $, **producing another image** whose values exist **within the same numerical space**."
   ]
  },
  {
   "cell_type": "markdown",
   "metadata": {
    "slideshow": {
     "slide_type": "subslide"
    }
   },
   "source": [
    "#### Computers\n",
    "Given inputs $i_1, i_2, ..., i_n$ and preallocated output $o$, compute some value from $i_1, i_2, ..., i_n$ and store it in $o$ "
   ]
  },
  {
   "cell_type": "markdown",
   "metadata": {
    "slideshow": {
     "slide_type": "fragment"
    }
   },
   "source": [
    "Benefits:\n",
    "* Efficiency: The output can be reused across multiple calls to the Op, preventing the repeated creation of Op outputs\n",
    "* Extensibility: The user can decide how the output should be created"
   ]
  },
  {
   "cell_type": "markdown",
   "metadata": {
    "slideshow": {
     "slide_type": "fragment"
    }
   },
   "source": [
    "`<T extends RealType<T>> void math.add(Img<T> img1, Img<T> img2, Img<T> output)`\n",
    "\n",
    "This Op adds two images whose values exist within $ R^n $, **storing the result in a preallocated output** whose values exist **within the same numerical space**."
   ]
  },
  {
   "cell_type": "markdown",
   "metadata": {
    "slideshow": {
     "slide_type": "subslide"
    }
   },
   "source": [
    "#### Inplaces\n",
    "\n",
    "Given inputs $i_1, i_2, ..., i_n$, compute some value from $i_1, i_2, ..., i_n$ and store it in $i_j$ for some $1\\le j\\le n$."
   ]
  },
  {
   "cell_type": "markdown",
   "metadata": {
    "slideshow": {
     "slide_type": "fragment"
    }
   },
   "source": [
    "Benefits:\n",
    "* Efficiency: No output is created, either by the user *or* by the Op"
   ]
  },
  {
   "cell_type": "markdown",
   "metadata": {
    "slideshow": {
     "slide_type": "fragment"
    }
   },
   "source": [
    "`<T extends RealType<T>> void math.add(Img<T> io, Img<T> img2)`\n",
    "\n",
    "This Op adds two images whose values exist within $ R^n $, **storing the result in the first image** (for C or Java users, this is the Op equivalent of `io += img2`)"
   ]
  },
  {
   "cell_type": "markdown",
   "metadata": {
    "slideshow": {
     "slide_type": "slide"
    }
   },
   "source": [
    "## Architecture \n",
    "\n",
    "TODO: explain what each of these libraries do."
   ]
  },
  {
   "cell_type": "markdown",
   "metadata": {
    "slideshow": {
     "slide_type": "fragment"
    }
   },
   "source": [
    "<div style=\"position: absolute; width: 25%; left: 5%; top: 0px\">\n",
    "    <b>Scijava Types</b>: Algorithms pertaining to type reasoning\n",
    "    <ul style=\"padding-left: 5%\">\n",
    "        <li> Answers questions like:\n",
    "        <ul style=\"font-size: 75%;padding-left: 5%\">\n",
    "            <li> Is a <code>Double</code> a <code>Number</code>?\n",
    "            <li> Is an <code>Img&lt;ByteType&gt;</code> a <code>Number</code>?\n",
    "            <li> Is an <code>Img&lt;ByteType&gt;</code> an <code>Img&lt;IntegerType&gt;</code>? \n",
    "        </ul>\n",
    "    </ul>\n",
    "</div>\n"
   ]
  },
  {
   "cell_type": "markdown",
   "metadata": {
    "slideshow": {
     "slide_type": "fragment"
    }
   },
   "source": [
    "<div style=\"position: absolute; width: 25%; left: 35%; top: -50px\">\n",
    "    <b>Scijava Ops</b>: A general-purpose framework for dealing with Ops\n",
    "    <ul style=\"padding-left: 5%\">\n",
    "        <li> Improves upon the matching framework of ImageJ Ops\n",
    "    </ul>\n",
    "</div>"
   ]
  },
  {
   "cell_type": "markdown",
   "metadata": {
    "slideshow": {
     "slide_type": "fragment"
    }
   },
   "source": [
    "<div style=\"position: absolute; width: 25%; left: 65%; top: -100px\">\n",
    "    <b>ImageJ Ops2</b>: A collection of Ops <em>pertaining to image processing</em>\n",
    "    <ul style=\"padding-left: 5%\">\n",
    "        <li> Contains ported versions of all Ops from ImageJ Ops\n",
    "    </ul>\n",
    "</div>"
   ]
  },
  {
   "cell_type": "markdown",
   "metadata": {
    "slideshow": {
     "slide_type": "slide"
    }
   },
   "source": [
    "## Using Ops"
   ]
  },
  {
   "cell_type": "markdown",
   "metadata": {
    "slideshow": {
     "slide_type": "subslide"
    }
   },
   "source": [
    "First, let's load Ops:"
   ]
  },
  {
   "cell_type": "code",
   "execution_count": 7,
   "metadata": {
    "slideshow": {
     "slide_type": "skip"
    }
   },
   "outputs": [
    {
     "data": {
      "application/vnd.jupyter.widget-view+json": {
       "model_id": "",
       "version_major": 2,
       "version_minor": 0
      },
      "method": "display_data"
     },
     "metadata": {},
     "output_type": "display_data"
    }
   ],
   "source": [
    "// Load the Scijava Ops library from the remote Maven repository.\n",
    "%classpath config resolver scijava.public https://maven.scijava.org/content/groups/public\n",
    "%%classpath add mvn\n",
    "org.jetbrains.kotlin kotlin-stdlib 1.3.71\n",
    "net.imagej imagej 2.1.0\n",
    "net.imagej imagej-ops2 0-SNAPSHOT"
   ]
  },
  {
   "cell_type": "code",
   "execution_count": 12,
   "metadata": {
    "slideshow": {
     "slide_type": "fragment"
    }
   },
   "outputs": [
    {
     "data": {
      "text/plain": [
       "org.scijava.ops.OpService [priority = 0.0]"
      ]
     },
     "execution_count": 12,
     "metadata": {},
     "output_type": "execute_result"
    }
   ],
   "source": [
    "// Initialize ImageJ Ops\n",
    "ij = new net.imagej.ImageJ()\n",
    "ops = ij.get(org.scijava.ops.OpService.class)"
   ]
  },
  {
   "cell_type": "markdown",
   "metadata": {
    "slideshow": {
     "slide_type": "subslide"
    }
   },
   "source": [
    "Ops can now be called with `ops.op(opName)`:"
   ]
  },
  {
   "cell_type": "code",
   "execution_count": 17,
   "metadata": {
    "slideshow": {
     "slide_type": "fragment"
    }
   },
   "outputs": [
    {
     "data": {
      "text/plain": []
     },
     "execution_count": 17,
     "metadata": {},
     "output_type": "execute_result"
    }
   ],
   "source": [
    "ops.op(\"math.div\") // We want an Op that adds\n",
    "\"\""
   ]
  },
  {
   "cell_type": "markdown",
   "metadata": {
    "slideshow": {
     "slide_type": "subslide"
    }
   },
   "source": [
    "After specifying the name of the Op, we then provide the input objects or types:"
   ]
  },
  {
   "cell_type": "code",
   "execution_count": 14,
   "metadata": {
    "slideshow": {
     "slide_type": "fragment"
    }
   },
   "outputs": [
    {
     "data": {
      "text/plain": []
     },
     "execution_count": 14,
     "metadata": {},
     "output_type": "execute_result"
    }
   ],
   "source": [
    "in1 = 2 as Double\n",
    "in2 = 3 as Double\n",
    "\n",
    "ops.op(\"math.add\").input(in1, in2) // We want our Op to divide 2 and 3\n",
    "\"\""
   ]
  },
  {
   "cell_type": "markdown",
   "metadata": {
    "slideshow": {
     "slide_type": "subslide"
    }
   },
   "source": [
    "Once we have specified the inputs, we then specify the output object or type:"
   ]
  },
  {
   "cell_type": "code",
   "execution_count": 15,
   "metadata": {
    "slideshow": {
     "slide_type": "fragment"
    }
   },
   "outputs": [
    {
     "data": {
      "text/plain": []
     },
     "execution_count": 15,
     "metadata": {},
     "output_type": "execute_result"
    }
   ],
   "source": [
    "ops.op(\"math.add\").input(in1, in2).outType(Double.class) // We want our Op to give us a Double\n",
    "\"\""
   ]
  },
  {
   "cell_type": "markdown",
   "metadata": {
    "slideshow": {
     "slide_type": "subslide"
    }
   },
   "source": [
    "Finally we ask Ops to find the Op and run it:"
   ]
  },
  {
   "cell_type": "code",
   "execution_count": 28,
   "metadata": {
    "slideshow": {
     "slide_type": "fragment"
    }
   },
   "outputs": [
    {
     "data": {
      "text/plain": [
       "5.0"
      ]
     },
     "execution_count": 28,
     "metadata": {},
     "output_type": "execute_result"
    }
   ],
   "source": [
    "ops.op(\"math.add\").input(in1, in2).outType(Double.class).apply() // Run the op with in1 and in2 as arguments"
   ]
  },
  {
   "cell_type": "markdown",
   "metadata": {
    "slideshow": {
     "slide_type": "subslide"
    }
   },
   "source": [
    "We can run the same Op multiple times with different inputs:"
   ]
  },
  {
   "cell_type": "code",
   "execution_count": 16,
   "metadata": {
    "slideshow": {
     "slide_type": "fragment"
    }
   },
   "outputs": [
    {
     "data": {
      "text/plain": []
     },
     "execution_count": 16,
     "metadata": {},
     "output_type": "execute_result"
    }
   ],
   "source": [
    "adder = ops.op(\"math.add\").input(in1, in2).outType(Double.class).function() // Give us a function back\n",
    "\"\""
   ]
  },
  {
   "cell_type": "code",
   "execution_count": 30,
   "metadata": {
    "slideshow": {
     "slide_type": "fragment"
    }
   },
   "outputs": [
    {
     "data": {
      "text/plain": [
       "[0, 1, 1, 2, 3, 5, 8, 13, 21, 34]"
      ]
     },
     "execution_count": 30,
     "metadata": {},
     "output_type": "execute_result"
    }
   ],
   "source": [
    "a = 0\n",
    "b = 1\n",
    "\n",
    "// find first 10 fibonacci numbers\n",
    "fibonacci = [0, 1] // starter numbers \n",
    "for(int i in 1..8){\n",
    "    sum = adder.apply(a as Double, b as Double)\n",
    "    fibonacci.add(sum as Integer)\n",
    "    a = b\n",
    "    b = sum\n",
    "}\n",
    "fibonacci"
   ]
  },
  {
   "cell_type": "markdown",
   "metadata": {
    "slideshow": {
     "slide_type": "slide"
    }
   },
   "source": [
    "Let's now run some Ops on an image:"
   ]
  },
  {
   "cell_type": "code",
   "execution_count": 21,
   "metadata": {
    "slideshow": {
     "slide_type": "skip"
    }
   },
   "outputs": [
    {
     "data": {
      "text/plain": [
       "script1597866030448$_run_closure1@757ee973"
      ]
     },
     "execution_count": 21,
     "metadata": {},
     "output_type": "execute_result"
    }
   ],
   "source": [
    "import java.net.URL\n",
    "import org.scijava.io.location.BytesLocation\n",
    "\n",
    "openImg = {String imgURL, String name -> \n",
    "    url = new URL(imgURL)\n",
    "    bytes = url.openStream().withCloseable{s -> s.readAllBytes()}\n",
    "\n",
    "    bytesLocation = new BytesLocation(bytes, name)\n",
    "    return ij.scifio().datasetIO().open(bytesLocation).getImgPlus()\n",
    "}"
   ]
  },
  {
   "cell_type": "code",
   "execution_count": 25,
   "metadata": {
    "slideshow": {
     "slide_type": "fragment"
    }
   },
   "outputs": [
    {
     "ename": "unable to resolve class net.imglib2.img @ line 2, column 1.",
     "evalue": "unable to resolve class net.imglib2.img @ line 2, column 1.",
     "output_type": "error",
     "traceback": [
      "\u001b[1;31munable to resolve class net.imglib2.img @ line 2, column 1.\u001b[0;0m",
      "\u001b[1;31m   import net.imglib2.img\u001b[0;0m",
      "\u001b[1;31m   ^\u001b[0;0m",
      "\u001b[1;31m\u001b[0;0m",
      "\u001b[1;31mscript1597866204388: 5: you tried to assign a value to the class 'net.imglib2.img'\u001b[0;0m",
      "\u001b[1;31m @ line 5, column 1.\u001b[0;0m",
      "\u001b[1;31m   img = openImg(\"https://imagej.net/images/blobs.gif\", \"blobs.gif\")\u001b[0;0m",
      "\u001b[1;31m   ^\u001b[0;0m",
      "\u001b[1;31m\u001b[0;0m",
      "\u001b[1;31m2 errors\u001b[0;0m",
      "\u001b[1;31m\u001b[0;0m",
      "\u001b[0;31m\tat com.twosigma.beakerx.groovy.evaluator.GroovyCodeRunner.call(GroovyCodeRunner.java:55)\u001b[0;0m",
      "\u001b[0;31m\tat com.twosigma.beakerx.groovy.evaluator.GroovyCodeRunner.call(GroovyCodeRunner.java:32)\u001b[0;0m"
     ]
    }
   ],
   "source": [
    "import net.imglib2.type.numeric.real.FloatType\n",
    "import net.imglib2.img\n",
    "\n",
    "// open the image\n",
    "img = openImg(\"https://imagej.net/images/blobs.gif\", \"blobs.gif\")\n",
    "\n",
    "// convert image to allow lossless calculations\n",
    "convertedInput = ops.op(\"create.img\").input(img, new FloatType()).apply()\n",
    "convertedInput = ops.op(\"convert.float32\").input(img).outType(Img.class).apply()\n",
    "\n",
    "// display converted input\n",
    "ij.notebook().display(convertedInput)"
   ]
  },
  {
   "cell_type": "markdown",
   "metadata": {
    "slideshow": {
     "slide_type": "subslide"
    }
   },
   "source": [
    "Let's find the edges of the blobs:"
   ]
  },
  {
   "cell_type": "code",
   "execution_count": 33,
   "metadata": {
    "slideshow": {
     "slide_type": "subslide"
    }
   },
   "outputs": [
    {
     "data": {
      "text/html": [
       "<img src=\"data:image/png;charset=utf-8;base64,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\" />"
      ]
     },
     "execution_count": 33,
     "metadata": {},
     "output_type": "execute_result"
    }
   ],
   "source": [
    "import net.imglib2.type.numeric.real.FloatType\n",
    "\n",
    "filtered = ops.op(\"create.img\").input(convertedInput).apply() // create image with same size and type as convertedInput\n",
    "ops.op(\"filter.sobel\").input(convertedInput).output(filtered).compute() // apply sobel filter on convertedInput\n",
    "\n",
    "// display output\n",
    "ij.notebook().display(filtered)"
   ]
  },
  {
   "cell_type": "markdown",
   "metadata": {
    "slideshow": {
     "slide_type": "subslide"
    }
   },
   "source": [
    "Let's intensify the edges with a threshold Op:"
   ]
  },
  {
   "cell_type": "code",
   "execution_count": 34,
   "metadata": {
    "slideshow": {
     "slide_type": "fragment"
    }
   },
   "outputs": [
    {
     "data": {
      "text/html": [
       "<img src=\"data:image/png;charset=utf-8;base64,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\" />"
      ]
     },
     "execution_count": 34,
     "metadata": {},
     "output_type": "execute_result"
    }
   ],
   "source": [
    "import net.imglib2.type.logic.BitType\n",
    "\n",
    "thresholded = ops.op(\"create.img\").input(filtered, new BitType()).apply() // NOTE: this image MUST contain BitTypes\n",
    "ops.op(\"threshold.ij1\").input(filtered).output(thresholded).compute() // use the ImageJ1 threshold Op\n",
    "\n",
    "// display output\n",
    "ij.notebook().display(thresholded)"
   ]
  },
  {
   "cell_type": "markdown",
   "metadata": {
    "slideshow": {
     "slide_type": "slide"
    }
   },
   "source": [
    "Scijava Ops and ImageJ Ops2 contain many more Ops; we can use the `help` Op to find out what options exist:"
   ]
  },
  {
   "cell_type": "code",
   "execution_count": 35,
   "metadata": {
    "slideshow": {
     "slide_type": "fragment"
    }
   },
   "outputs": [
    {
     "data": {
      "text/plain": [
       "Available operations:\n",
       "\tnet.imagej.ops2.filter.addNoise.NoiseAdders.addNoiseInterval(\n",
       "\t Inputs:\n",
       "\t\tnet.imglib2.RandomAccessibleInterval<I extends net.imglib2.type.numeric.RealType<I>> input1\n",
       "\t\tjava.lang.Double input2\n",
       "\t\tjava.lang.Double input3\n",
       "\t\tjava.lang.Double input4\n",
       "\t\tjava.lang.Long input5\n",
       "\t\tnet.imglib2.RandomAccessibleInterval<O extends net.imglib2.type.numeric.RealType<O>> mutable1\n",
       "\t Outputs:\n",
       "\t\tnet.imglib2.RandomAccessibleInterval<O extends net.imglib2.type.numeric.RealType<O>> mutable1\n",
       ")\n",
       "\n",
       "\tnet.imagej.ops2.filter.addNoise.NoiseAdders.addNoiseIntervalSeedless(\n",
       "\t Inputs:\n",
       "\t\tnet.imglib2.RandomAccessibleInterval<I extends net.imglib2.type.numeric.RealType<I>> input1\n",
       "\t\tjava.lang.Double input2\n",
       "\t\tjava.lang.Double input3\n",
       "\t\tjava.lang.Double input4\n",
       "\t\tnet.imglib2.RandomAccessibleInterval<O extends net.imglib2.type.numeric.RealType<O>> mutable1\n",
       "\t Outputs:\n",
       "\t\tnet.imglib2.RandomAccessibleInterval<O extends net.imglib2.type.numeric.RealType<O>> mutable1\n",
       ")\n"
      ]
     },
     "execution_count": 35,
     "metadata": {},
     "output_type": "execute_result"
    }
   ],
   "source": [
    "ops.op(\"help\").input(\"filter.addNoise\", ops).outType(String.class).apply() // lookup all noise adding Ops"
   ]
  },
  {
   "cell_type": "markdown",
   "metadata": {
    "slideshow": {
     "slide_type": "slide"
    }
   },
   "source": [
    "## Extending Ops"
   ]
  },
  {
   "cell_type": "markdown",
   "metadata": {
    "slideshow": {
     "slide_type": "fragment"
    }
   },
   "source": [
    "Ops can be written as either a class or as a field within a class; each style has benefits and drawbacks\n",
    "* Ops written as Fields are more concise\n",
    "* Ops written as Classes can depend on other Ops"
   ]
  },
  {
   "cell_type": "markdown",
   "metadata": {
    "slideshow": {
     "slide_type": "subslide"
    }
   },
   "source": [
    "### Ops as Classes\n",
    "\n",
    "Let's first look at how to write an Op as a class:"
   ]
  },
  {
   "cell_type": "code",
   "execution_count": 36,
   "metadata": {
    "slideshow": {
     "slide_type": "fragment"
    }
   },
   "outputs": [
    {
     "data": {
      "text/plain": [
       "null"
      ]
     },
     "execution_count": 36,
     "metadata": {},
     "output_type": "execute_result"
    }
   ],
   "source": [
    "import java.util.function.BiFunction\n",
    "import org.scijava.param.Parameter\n",
    "import org.scijava.struct.ItemIO\n",
    "\n",
    "@Parameter(key = \"in1\", itemIO = ItemIO.INPUT)\n",
    "@Parameter(key = \"in2\", itemIO = ItemIO.INPUT)\n",
    "@Parameter(key = \"output\", itemIO = ItemIO.OUTPUT)\n",
    "class SampleOp implements BiFunction<Double, Double, Double> {\n",
    "    @Override\n",
    "    public Double apply(Double in1, Double in2) {\n",
    "        return in1 * in2\n",
    "    }\n",
    "}"
   ]
  },
  {
   "cell_type": "markdown",
   "metadata": {
    "slideshow": {
     "slide_type": "subslide"
    }
   },
   "source": [
    "We then _\"opify\"_ the class and register it into the `OpEnvironment`:"
   ]
  },
  {
   "cell_type": "code",
   "execution_count": 37,
   "metadata": {
    "slideshow": {
     "slide_type": "fragment"
    }
   },
   "outputs": [
    {
     "data": {
      "text/plain": [
       "null"
      ]
     },
     "execution_count": 37,
     "metadata": {},
     "output_type": "execute_result"
    }
   ],
   "source": [
    "info = ops.env().opify(SampleOp.class)\n",
    "ops.env().register(info, \"test.groovyOp\")"
   ]
  },
  {
   "cell_type": "markdown",
   "metadata": {
    "slideshow": {
     "slide_type": "subslide"
    }
   },
   "source": [
    "We can now call the Op through Ops:"
   ]
  },
  {
   "cell_type": "code",
   "execution_count": 38,
   "metadata": {
    "slideshow": {
     "slide_type": "fragment"
    }
   },
   "outputs": [
    {
     "data": {
      "text/plain": [
       "15.0"
      ]
     },
     "execution_count": 38,
     "metadata": {},
     "output_type": "execute_result"
    }
   ],
   "source": [
    "in1 = 5d\n",
    "in2 = 3d\n",
    "\n",
    "result = ops.op(\"test.groovyOp\").input(in1, in2).outType(Double.class).apply()"
   ]
  },
  {
   "cell_type": "markdown",
   "metadata": {
    "slideshow": {
     "slide_type": "subslide"
    }
   },
   "source": [
    "Ops written as classes can depend on other ops by using the `@OpDependency` annotation:"
   ]
  },
  {
   "cell_type": "code",
   "execution_count": 39,
   "metadata": {
    "slideshow": {
     "slide_type": "fragment"
    }
   },
   "outputs": [
    {
     "data": {
      "text/plain": [
       "null"
      ]
     },
     "execution_count": 39,
     "metadata": {},
     "output_type": "execute_result"
    }
   ],
   "source": [
    "import java.util.function.Function\n",
    "import java.util.List\n",
    "import org.scijava.ops.OpDependency\n",
    "import org.scijava.param.Parameter\n",
    "import org.scijava.struct.ItemIO\n",
    "\n",
    "@Parameter(key = \"inputList\", itemIO = ItemIO.INPUT)\n",
    "@Parameter(key = \"output\", itemIO = ItemIO.OUTPUT)\n",
    "class SampleMeanOp implements Function<List<Double>, Double> {\n",
    "    \n",
    "    @OpDependency(name = \"math.add\")\n",
    "    public Function<List<Double>, Double> sumOp;\n",
    "    \n",
    "    @OpDependency(name = \"stats.size\")\n",
    "    public Function<List<Double>, Double> sizeOp\n",
    "    \n",
    "    @Override\n",
    "    public Double apply(List<Double> input) {\n",
    "        return sumOp.apply(input) / sizeOp.apply(input) // mean = sum / size\n",
    "    }\n",
    "}"
   ]
  },
  {
   "cell_type": "markdown",
   "metadata": {
    "slideshow": {
     "slide_type": "subslide"
    }
   },
   "source": [
    "Just as before, we _\"opify\"_ the class and register it into the `OpEnvironment`:"
   ]
  },
  {
   "cell_type": "code",
   "execution_count": 40,
   "metadata": {
    "slideshow": {
     "slide_type": "fragment"
    }
   },
   "outputs": [
    {
     "data": {
      "text/plain": [
       "null"
      ]
     },
     "execution_count": 40,
     "metadata": {},
     "output_type": "execute_result"
    }
   ],
   "source": [
    "info = ops.env().opify(SampleMeanOp.class)\n",
    "ops.env().register(info, \"test.groovyMean\")"
   ]
  },
  {
   "cell_type": "markdown",
   "metadata": {
    "slideshow": {
     "slide_type": "fragment"
    }
   },
   "source": [
    "We can then use our `SampleMeanOp`; Ops will automatically inject the required Op dependencies into our new Op (so long as the `OpService` knows about them)"
   ]
  },
  {
   "cell_type": "code",
   "execution_count": 31,
   "metadata": {
    "slideshow": {
     "slide_type": "fragment"
    }
   },
   "outputs": [
    {
     "data": {
      "text/plain": [
       "8.0"
      ]
     },
     "execution_count": 31,
     "metadata": {},
     "output_type": "execute_result"
    }
   ],
   "source": [
    "// samples = [1d, 2d, 4d] as List<Double>\n",
    "\n",
    "// mean = ops.op(\"test.groovyMean\").input(samples).outType(Double.class).apply()\n",
    "\n",
    "java.util.function.BiFunction<Double, Double, Double> powOp = {Double base, Double exponent -> Math.pow(base, exponent)}\n",
    "powOp.apply(2, 3)"
   ]
  },
  {
   "cell_type": "markdown",
   "metadata": {
    "slideshow": {
     "slide_type": "slide"
    }
   },
   "source": [
    "### Ops as Fields\n",
    "\n",
    "Now let's write an Op as a Field:"
   ]
  },
  {
   "cell_type": "code",
   "execution_count": 42,
   "metadata": {
    "slideshow": {
     "slide_type": "fragment"
    }
   },
   "outputs": [
    {
     "data": {
      "text/plain": [
       "null"
      ]
     },
     "execution_count": 42,
     "metadata": {},
     "output_type": "execute_result"
    }
   ],
   "source": [
    "import java.util.function.BiFunction\n",
    "import org.scijava.plugin.Plugin\n",
    "import org.scijava.ops.core.OpCollection\n",
    "import org.scijava.ops.OpField\n",
    "\n",
    "@Plugin(type = OpCollection.class) // tells Ops that this Class contains Field Ops\n",
    "class OpCollection {\n",
    "\n",
    "    @OpField(names = \"test.groovyPower\", params = \"base, exponent\") // tells Ops that this Field is an Op\n",
    "    public final BiFunction<Double, Double, Double> powOp = \n",
    "        { Double base, Double exponent -> Math.pow(base, exponent)}\n",
    "\n",
    "}"
   ]
  },
  {
   "cell_type": "markdown",
   "metadata": {
    "slideshow": {
     "slide_type": "fragment"
    }
   },
   "source": [
    "The combination of the `@Plugin` and `@OpField` annotations allows Scijava Ops to discover this Op"
   ]
  },
  {
   "cell_type": "markdown",
   "metadata": {
    "slideshow": {
     "slide_type": "slide"
    }
   },
   "source": [
    "## Future Directions "
   ]
  },
  {
   "cell_type": "markdown",
   "metadata": {
    "slideshow": {
     "slide_type": "fragment"
    }
   },
   "source": [
    "1. **Improve Accessibility**:\n",
    "  * Expose Scijava Ops and ImageJ Ops2 in FIJI\n",
    "  * Support Op autocompletion within popular IDEs"
   ]
  },
  {
   "cell_type": "markdown",
   "metadata": {
    "slideshow": {
     "slide_type": "fragment"
    }
   },
   "source": [
    "2. **Improve Op Diversity**:\n",
    "  * Support writing Ops as methods\n",
    "  * Reduce annotation boilerplate"
   ]
  },
  {
   "cell_type": "markdown",
   "metadata": {
    "slideshow": {
     "slide_type": "fragment"
    }
   },
   "source": [
    "3. **Op Utilities**:\n",
    "  * Progress reporting, Logging\n",
    "  * Op cancellation"
   ]
  },
  {
   "cell_type": "markdown",
   "metadata": {
    "slideshow": {
     "slide_type": "slide"
    }
   },
   "source": [
    "## Resources\n",
    "\n",
    "* Scientific Imaging Forum https://forum.image.sc\n",
    "\n",
    "* ImageJ Ops Tutorials https://github.com/imagej/tutorials"
   ]
  }
 ],
 "metadata": {
  "celltoolbar": "Slideshow",
  "kernelspec": {
   "display_name": "Groovy",
   "language": "groovy",
   "name": "groovy"
  },
  "language_info": {
   "codemirror_mode": "groovy",
   "file_extension": ".groovy",
   "mimetype": "",
   "name": "Groovy",
   "nbconverter_exporter": "",
   "version": "2.5.6"
  },
  "toc": {
   "base_numbering": 1,
   "nav_menu": {},
   "number_sections": true,
   "sideBar": true,
   "skip_h1_title": true,
   "title_cell": "Table of Contents",
   "title_sidebar": "Contents",
   "toc_cell": false,
   "toc_position": {
    "height": "calc(100% - 180px)",
    "left": "10px",
    "top": "150px",
    "width": "307px"
   },
   "toc_section_display": true,
   "toc_window_display": false
  }
 },
 "nbformat": 4,
 "nbformat_minor": 2
}
