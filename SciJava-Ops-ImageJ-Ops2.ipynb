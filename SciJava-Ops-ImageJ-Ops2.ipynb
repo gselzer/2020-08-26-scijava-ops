{
 "cells": [
  {
   "cell_type": "markdown",
   "metadata": {
    "slideshow": {
     "slide_type": "slide"
    }
   },
   "source": [
    "## ImageJ Ops2\n",
    "A scientific algorithm framework combined with a bevy of image processing algorithms\n",
    "\n",
    "See the notebook: https://github.com/uw-loci/Notebooks/...\n",
    "\n"
   ]
  },
  {
   "cell_type": "markdown",
   "metadata": {
    "slideshow": {
     "slide_type": "slide"
    }
   },
   "source": [
    "## Motivations \n",
    "\n",
    "The algorithm framework should prioritize:"
   ]
  },
  {
   "cell_type": "markdown",
   "metadata": {
    "slideshow": {
     "slide_type": "fragment"
    }
   },
   "source": [
    "1. **Ease of Use**: Image processing algorithms should be easy to access and simple to call."
   ]
  },
  {
   "cell_type": "markdown",
   "metadata": {
    "slideshow": {
     "slide_type": "fragment"
    }
   },
   "source": [
    "2. **Portability**: The framework should extend Java's mantra of \"write once, run anywhere\". Algorithms should be usable as-is from any SciJava-compatible software, such as ImageJ or KNIME."
   ]
  },
  {
   "cell_type": "markdown",
   "metadata": {
    "slideshow": {
     "slide_type": "fragment"
    }
   },
   "source": [
    "3. **Reproducibility**: Algorithms should produce consistent results across repeated calls and on all machines."
   ]
  },
  {
   "cell_type": "markdown",
   "metadata": {
    "slideshow": {
     "slide_type": "fragment"
    }
   },
   "source": [
    "4. **Extensibility**: The framework should accommodate the addition of new algorithms as well as the enhancement of existing algorithms. \n",
    "\n",
    "<div style=\"text-align: right\">Adapted from <a href=https://github.com/imagej/tutorials/blob/master/notebooks/1-Using-ImageJ/2-ImageJ-Ops.ipynb><code>imagej/tutorials</code></a></div>"
   ]
  },
  {
   "cell_type": "markdown",
   "metadata": {
    "slideshow": {
     "slide_type": "subslide"
    }
   },
   "source": [
    "### Op(eration)s\n",
    "An Op is an implementation of an algorithm that abides by a set of conditions:"
   ]
  },
  {
   "cell_type": "markdown",
   "metadata": {
    "slideshow": {
     "slide_type": "fragment"
    }
   },
   "source": [
    "* Ops **must** be deterministic"
   ]
  },
  {
   "cell_type": "markdown",
   "metadata": {
    "slideshow": {
     "slide_type": "fragment"
    }
   },
   "source": [
    "* Ops **must** accept specific kinds of inputs and produce specific kinds of outputs\n",
    "  * An Op can be defined on an image **of** integer values, or can be defined on a more specific type (like a byte)"
   ]
  },
  {
   "cell_type": "markdown",
   "metadata": {
    "slideshow": {
     "slide_type": "fragment"
    }
   },
   "source": [
    "`<T extends RealType<T>> Img<T> math.add(Img<T> img1, Img<T> img2)`\n",
    "\n",
    "This is an Op that adds two images whose values exist within $ R^n $, producing another image whose values exist **within the same numerical space**."
   ]
  },
  {
   "cell_type": "markdown",
   "metadata": {
    "slideshow": {
     "slide_type": "subslide"
    }
   },
   "source": [
    "### Flavors of Ops"
   ]
  },
  {
   "cell_type": "markdown",
   "metadata": {
    "slideshow": {
     "slide_type": "subslide"
    }
   },
   "source": [
    "#### Functions\n",
    "\n",
    "Given inputs $i_1, i_2, ..., i_n$, produce one output $o$ "
   ]
  },
  {
   "cell_type": "markdown",
   "metadata": {
    "slideshow": {
     "slide_type": "fragment"
    }
   },
   "source": [
    "<div style=\"float:left; margin-top: 3%; font-size: 75%; padding-right: 10px\">Smiley Face Op:\n",
    "    <ul>\n",
    "        <li> Color: Red\n",
    "        <li> Size: 100 pixels\n",
    "    </ul>\n",
    "</div>\n",
    "\n",
    "<img src=\"rArrow.png\" style = \"float:left\"> <img src=\"./SmileyFace.png\" style = \"float: left\"> "
   ]
  },
  {
   "cell_type": "markdown",
   "metadata": {
    "slideshow": {
     "slide_type": "fragment"
    }
   },
   "source": [
    "Benefits:\n",
    "* Convenience - output is given to you\n",
    "* [Power](https://en.wikipedia.org/wiki/Functional_programming) - functional programming avoids side effects"
   ]
  },
  {
   "cell_type": "markdown",
   "metadata": {
    "slideshow": {
     "slide_type": "skip"
    }
   },
   "source": [
    "`<T extends RealType<T>> Img<T> math.add(Img<T> img1, Img<T> img2)`\n",
    "\n",
    "This  Op adds two images whose values exist within $ R^n $, **producing another image** whose values exist **within the same numerical space**."
   ]
  },
  {
   "cell_type": "markdown",
   "metadata": {
    "slideshow": {
     "slide_type": "subslide"
    }
   },
   "source": [
    "#### Computers\n",
    "Given inputs $i_1, i_2, ..., i_n$ and preallocated output $o$, compute some value from $i_1, i_2, ..., i_n$ and store it in $o$ "
   ]
  },
  {
   "cell_type": "markdown",
   "metadata": {
    "slideshow": {
     "slide_type": "fragment"
    }
   },
   "source": [
    "<div style=\"float:left; margin-top: 3%; font-size: 75%; padding-right: 10px\">Smiley Face Op:\n",
    "    <ul>\n",
    "        <li> Color: Red\n",
    "        <li> Size: 100 pixels\n",
    "    </ul>\n",
    "</div>\n",
    "<img src=\"./MonaLisa.jpg\" style = \"float:left\"> <img src=\"rArrow.png\" style = \"float: left\"> <img src=\"./SmileyFace.png\" style = \"float:left\"> "
   ]
  },
  {
   "cell_type": "markdown",
   "metadata": {
    "slideshow": {
     "slide_type": "fragment"
    }
   },
   "source": [
    "Benefits:\n",
    "* Efficiency: The output can be reused across multiple Op calls\n",
    "* Extensibility: Users control output creation"
   ]
  },
  {
   "cell_type": "markdown",
   "metadata": {
    "slideshow": {
     "slide_type": "skip"
    }
   },
   "source": [
    "`<T extends RealType<T>> void math.add(Img<T> img1, Img<T> img2, Img<T> output)`\n",
    "\n",
    "This Op adds two images whose values exist within $ R^n $, **storing the result in a preallocated output** whose values exist **within the same numerical space**."
   ]
  },
  {
   "cell_type": "markdown",
   "metadata": {
    "slideshow": {
     "slide_type": "subslide"
    }
   },
   "source": [
    "#### Inplaces\n",
    "\n",
    "Given inputs $i_1, i_2, ..., i_n$, compute some value from $i_1, i_2, ..., i_n$ and store it in $i_j$ for some $1\\le j\\le n$."
   ]
  },
  {
   "cell_type": "markdown",
   "metadata": {
    "slideshow": {
     "slide_type": "fragment"
    }
   },
   "source": [
    "<div style=\"float:left; margin-top: 3%; font-size: 75%; padding-right: 10px\">Parameters:\n",
    "    <ul>\n",
    "        <li> Color: Red\n",
    "        <li> Size: 100 pixels\n",
    "    </ul>\n",
    "</div>\n",
    "\n",
    "<img src=\"./MonaLisa.jpg\" style = \"float:left\"> <img src=\"rArrow.png\" style = \"float: left\"> <img src=\"./MonaSmiles.jpg\" style = \"float:left\"> "
   ]
  },
  {
   "cell_type": "markdown",
   "metadata": {
    "slideshow": {
     "slide_type": "fragment"
    }
   },
   "source": [
    "Benefits:\n",
    "* Extremely Space-Efficient: input image space is reused"
   ]
  },
  {
   "cell_type": "markdown",
   "metadata": {
    "slideshow": {
     "slide_type": "skip"
    }
   },
   "source": [
    "`<T extends RealType<T>> void math.add(Img<T> io, Img<T> img2)`\n",
    "\n",
    "This Op adds two images whose values exist within $ R^n $, **storing the result in the first image** (for C or Java users, this is the Op equivalent of `io += img2`)"
   ]
  },
  {
   "cell_type": "markdown",
   "metadata": {
    "slideshow": {
     "slide_type": "slide"
    }
   },
   "source": [
    "## Architecture "
   ]
  },
  {
   "cell_type": "markdown",
   "metadata": {
    "slideshow": {
     "slide_type": "skip"
    }
   },
   "source": [
    "<div style=\"position: absolute; width: 25%; left: 5%; top: 0px\">\n",
    "    <b>SciJava Types</b>: Algorithms pertaining to type reasoning\n",
    "    <ul style=\"padding-left: 5%\">\n",
    "        <li> Answers questions like:\n",
    "        <ul style=\"font-size: 75%;padding-left: 5%\">\n",
    "            <li> Is a <code>Double</code> a <code>Number</code>?\n",
    "            <li> Is an <code>Img&lt;ByteType&gt;</code> a <code>Number</code>?\n",
    "            <li> Is an <code>Img&lt;ByteType&gt;</code> an <code>Img&lt;IntegerType&gt;</code>? \n",
    "        </ul>\n",
    "    </ul>\n",
    "</div>\n"
   ]
  },
  {
   "cell_type": "markdown",
   "metadata": {
    "slideshow": {
     "slide_type": "skip"
    }
   },
   "source": [
    "<div style=\"position: absolute; width: 25%; left: 40%; top: -50px\">\n",
    "    <b>SciJava Ops</b>: A general-purpose framework for dealing with Ops\n",
    "    <ul style=\"padding-left: 5%\">\n",
    "        <li> Finds Ops that satisfy user requests\n",
    "        <li> Answers questions like:\n",
    "        <ul style=\"font-size: 75%;padding-left: 5%\">\n",
    "            <li> Do I have a <code>math.add</code> Op that runs on <code>Img</code>s?\n",
    "        </ul>\n",
    "    </ul>\n",
    "</div>\n",
    "<div style=\"position: absolute; left: 33%; font-size: 200%; top: 0%\">\n",
    "    \t&#10148;\n",
    "</div>"
   ]
  },
  {
   "cell_type": "markdown",
   "metadata": {
    "slideshow": {
     "slide_type": "skip"
    }
   },
   "source": [
    "<div style=\"position: absolute; width: 25%; left: 75%; top: -100px\">\n",
    "    <b>ImageJ Ops2</b>: A collection of Ops <em>pertaining to image processing</em>\n",
    "    <ul style=\"padding-left: 5%\">\n",
    "        <li> Contains ported versions of all Ops from ImageJ Ops:\n",
    "        <ul style=\"font-size: 75%;padding-left: 5%\">\n",
    "            <li> Difference of Gaussians\n",
    "            <li> Colocalization\n",
    "            <li> Thresholding\n",
    "            <li style=\"list-style-type: none; font-size: 150%\">&#8942;\n",
    "        </ul>\n",
    "    </ul>\n",
    "</div>\n",
    "<div style=\"position: absolute; left: 68%; font-size: 200%; top: -100%\">\n",
    "    \t&#10148;\n",
    "</div>"
   ]
  },
  {
   "cell_type": "markdown",
   "metadata": {
    "slideshow": {
     "slide_type": "fragment"
    }
   },
   "source": [
    "<div style=\"float: left; font-size: 200%\">\n",
    "    <center><img src=\"./opBag.png\" style=\"width: 75%; height: 75%\"></center>\n",
    "    <p> <center><b>Bag of Ops</b></center>\n",
    "</div>\n",
    "<div style=\"float: left; font-size: 200%\">\n",
    "    <center><img src=\"./opMatcher.png\" style=\"width: 75%; height: 75%\"></center>\n",
    "    <p> <center><b>Op Matcher</b></center>\n",
    "</div>\n",
    "<!-- <div style=\"float: left; font-size: 200%\">\n",
    "    <center><img src=\"./imageJOpBag.png\" style=\"width: 50%; height: 50%\"></center>\n",
    "    <p> <center><b>ImageJ Ops2</b></center>\n",
    "</div> -->\n",
    "\n",
    "\n"
   ]
  },
  {
   "cell_type": "markdown",
   "metadata": {
    "slideshow": {
     "slide_type": "-"
    }
   },
   "source": [
    "<div style=\"align: right; float: none; text-align: right; font-size: 50%\">Icons made by <a href=\"https://www.flaticon.com/authors/freepik\" title=\"Freepik\">Freepik</a> from <a href=\"https://www.flaticon.com/\" title=\"Flaticon\">www.flaticon.com</a></div>"
   ]
  },
  {
   "cell_type": "markdown",
   "metadata": {
    "slideshow": {
     "slide_type": "slide"
    }
   },
   "source": [
    "## Using Ops"
   ]
  },
  {
   "cell_type": "markdown",
   "metadata": {
    "slideshow": {
     "slide_type": "subslide"
    }
   },
   "source": [
    "First, let's load Ops:"
   ]
  },
  {
   "cell_type": "code",
   "execution_count": null,
   "metadata": {
    "slideshow": {
     "slide_type": "skip"
    }
   },
   "outputs": [
    {
     "name": "stdout",
     "output_type": "stream",
     "text": [
      "Added new repo: scijava.public\n"
     ]
    },
    {
     "data": {
      "application/vnd.jupyter.widget-view+json": {
       "model_id": "79254b30-ac36-40a1-981c-4e33ab5dfd9b",
       "version_major": 2,
       "version_minor": 0
      },
      "method": "display_data"
     },
     "metadata": {},
     "output_type": "display_data"
    }
   ],
   "source": [
    "// Load the SciJava Ops library from the remote Maven repository.\n",
    "%classpath config resolver scijava.public https://maven.scijava.org/content/groups/public\n",
    "%%classpath add mvn\n",
    "org.jetbrains.kotlin kotlin-stdlib 1.3.71\n",
    "net.imagej imagej 2.1.0\n",
    "net.imagej imagej-ops2 0-SNAPSHOT"
   ]
  },
  {
   "cell_type": "code",
   "execution_count": null,
   "metadata": {
    "slideshow": {
     "slide_type": "fragment"
    }
   },
   "outputs": [],
   "source": [
    "// Initialize ImageJ Ops\n",
    "ij = new net.imagej.ImageJ()\n",
    "ops = ij.get(org.scijava.ops.OpService.class)"
   ]
  },
  {
   "cell_type": "markdown",
   "metadata": {
    "slideshow": {
     "slide_type": "subslide"
    }
   },
   "source": [
    "Ops can now be called with `ops.op(opName)`:"
   ]
  },
  {
   "cell_type": "code",
   "execution_count": null,
   "metadata": {
    "slideshow": {
     "slide_type": "fragment"
    }
   },
   "outputs": [],
   "source": [
    "ops.op(\"math.add\") // We want an Op that adds\n",
    "\"\""
   ]
  },
  {
   "cell_type": "markdown",
   "metadata": {
    "slideshow": {
     "slide_type": "subslide"
    }
   },
   "source": [
    "After specifying the name of the Op, we then provide the input objects or types:"
   ]
  },
  {
   "cell_type": "code",
   "execution_count": null,
   "metadata": {
    "slideshow": {
     "slide_type": "fragment"
    }
   },
   "outputs": [],
   "source": [
    "in1 = 2 as Double\n",
    "in2 = 3 as Double\n",
    "\n",
    "ops.op(\"math.add\").input(in1, in2) // We want our Op to add 2 and 3\n",
    "\"\""
   ]
  },
  {
   "cell_type": "markdown",
   "metadata": {
    "slideshow": {
     "slide_type": "subslide"
    }
   },
   "source": [
    "Once we have specified the inputs, we then specify the output object or type:"
   ]
  },
  {
   "cell_type": "code",
   "execution_count": null,
   "metadata": {
    "slideshow": {
     "slide_type": "fragment"
    }
   },
   "outputs": [],
   "source": [
    "ops.op(\"math.add\").input(in1, in2).outType(Double.class) // We want our Op to give us a Double\n",
    "\"\""
   ]
  },
  {
   "cell_type": "markdown",
   "metadata": {
    "slideshow": {
     "slide_type": "subslide"
    }
   },
   "source": [
    "Finally we ask Ops to find the Op and run it:"
   ]
  },
  {
   "cell_type": "code",
   "execution_count": null,
   "metadata": {
    "slideshow": {
     "slide_type": "fragment"
    }
   },
   "outputs": [],
   "source": [
    "ops.op(\"math.add\").input(in1, in2).outType(Double.class).apply() // Run the op (note that in1 = 2 and in2 = 3 were the arguments to the Function)"
   ]
  },
  {
   "cell_type": "markdown",
   "metadata": {
    "slideshow": {
     "slide_type": "subslide"
    }
   },
   "source": [
    "We can run the same Op multiple times with different inputs:"
   ]
  },
  {
   "cell_type": "code",
   "execution_count": null,
   "metadata": {
    "slideshow": {
     "slide_type": "fragment"
    }
   },
   "outputs": [],
   "source": [
    "adder = ops.op(\"math.add\").input(in1, in2).outType(Double.class).function() // Give us a function back \n",
    "\"\""
   ]
  },
  {
   "cell_type": "code",
   "execution_count": null,
   "metadata": {
    "slideshow": {
     "slide_type": "fragment"
    }
   },
   "outputs": [],
   "source": [
    "a = 0\n",
    "b = 1\n",
    "\n",
    "// find first 10 fibonacci numbers\n",
    "fibonacci = [0, 1] // starter numbers \n",
    "for(int i in 1..8){\n",
    "    sum = adder.apply(a as Double, b as Double)\n",
    "    fibonacci.add(sum as Integer)\n",
    "    a = b\n",
    "    b = sum\n",
    "}\n",
    "fibonacci"
   ]
  },
  {
   "cell_type": "markdown",
   "metadata": {
    "slideshow": {
     "slide_type": "slide"
    }
   },
   "source": [
    "Let's now run an Op on an image:"
   ]
  },
  {
   "cell_type": "code",
   "execution_count": null,
   "metadata": {
    "slideshow": {
     "slide_type": "skip"
    }
   },
   "outputs": [],
   "source": [
    "import java.net.URL\n",
    "import net.imglib2.type.numeric.real.FloatType\n",
    "import net.imglib2.img.Img\n",
    "import org.scijava.io.location.BytesLocation\n",
    "import io.scif.img.ImgOpener\n",
    "\n",
    "openImg = {String imgURL, String name -> \n",
    "    url = new URL(imgURL)\n",
    "    bytes = url.openStream().withCloseable{s -> s.readAllBytes()}\n",
    "\n",
    "    bytesLocation = new BytesLocation(bytes, name)\n",
    "    return new ImgOpener(ij.context()).openImgs(bytesLocation, new FloatType(), new io.scif.config.SCIFIOConfig().imgOpenerSetComputeMinMax(false)).get(0) \n",
    "}"
   ]
  },
  {
   "cell_type": "code",
   "execution_count": null,
   "metadata": {
    "slideshow": {
     "slide_type": "fragment"
    }
   },
   "outputs": [],
   "source": [
    "// open the image\n",
    "img = openImg(\"https://imagej.net/images/blobs.gif\", \"blobs.gif\")\n",
    "\n",
    "// display converted input\n",
    "ij.notebook().display(img)"
   ]
  },
  {
   "cell_type": "markdown",
   "metadata": {
    "slideshow": {
     "slide_type": "subslide"
    }
   },
   "source": [
    "Let's find the edges of the blobs:"
   ]
  },
  {
   "cell_type": "code",
   "execution_count": null,
   "metadata": {
    "slideshow": {
     "slide_type": "subslide"
    }
   },
   "outputs": [],
   "source": [
    "import net.imglib2.type.numeric.real.FloatType\n",
    "\n",
    "filtered = ops.op(\"create.img\").input(img).apply() // create image with same size and type as convertedInput\n",
    "ops.op(\"filter.sobel\").input(img).output(filtered).compute() // apply sobel filter on convertedInput\n",
    "\n",
    "// display output\n",
    "ij.notebook().display(filtered)"
   ]
  },
  {
   "cell_type": "markdown",
   "metadata": {
    "slideshow": {
     "slide_type": "slide"
    }
   },
   "source": [
    "SciJava Ops and ImageJ Ops2 contain many more Ops; we can use the `help` Op to find out what options exist:"
   ]
  },
  {
   "cell_type": "code",
   "execution_count": null,
   "metadata": {
    "slideshow": {
     "slide_type": "fragment"
    }
   },
   "outputs": [],
   "source": [
    "ops.op(\"help\").input(\"filter.addNoise\", ops).outType(String.class).apply() // lookup all noise adding Ops"
   ]
  },
  {
   "cell_type": "markdown",
   "metadata": {
    "slideshow": {
     "slide_type": "slide"
    }
   },
   "source": [
    "## Extending Ops"
   ]
  },
  {
   "cell_type": "markdown",
   "metadata": {
    "slideshow": {
     "slide_type": "skip"
    }
   },
   "source": [
    "Ops can be written as either a class or as a field within a class; each style has benefits\n",
    "* Ops written as Fields are more concise\n",
    "* Ops written as Classes can depend on other Ops"
   ]
  },
  {
   "cell_type": "markdown",
   "metadata": {
    "slideshow": {
     "slide_type": "skip"
    }
   },
   "source": [
    "### Ops as Classes\n",
    "\n",
    "Let's first look at how to write an Op as a class:"
   ]
  },
  {
   "cell_type": "code",
   "execution_count": null,
   "metadata": {
    "slideshow": {
     "slide_type": "skip"
    }
   },
   "outputs": [],
   "source": [
    "import java.util.function.BiFunction\n",
    "import org.scijava.param.Parameter\n",
    "import org.scijava.struct.ItemIO\n",
    "\n",
    "@Parameter(key = \"in1\", itemIO = ItemIO.INPUT)\n",
    "@Parameter(key = \"in2\", itemIO = ItemIO.INPUT)\n",
    "@Parameter(key = \"output\", itemIO = ItemIO.OUTPUT)\n",
    "class SampleOp implements BiFunction<Double, Double, Double> {\n",
    "    @Override\n",
    "    public Double apply(Double in1, Double in2) {\n",
    "        return in1 * in2\n",
    "    }\n",
    "}"
   ]
  },
  {
   "cell_type": "markdown",
   "metadata": {
    "slideshow": {
     "slide_type": "skip"
    }
   },
   "source": [
    "We then _\"opify\"_ the class and register it into the `OpEnvironment`:"
   ]
  },
  {
   "cell_type": "code",
   "execution_count": null,
   "metadata": {
    "slideshow": {
     "slide_type": "skip"
    }
   },
   "outputs": [],
   "source": [
    "info = ops.env().opify(SampleOp.class)\n",
    "ops.env().register(info, \"test.groovyOp\")"
   ]
  },
  {
   "cell_type": "markdown",
   "metadata": {
    "slideshow": {
     "slide_type": "skip"
    }
   },
   "source": [
    "We can now call the Op through Ops:"
   ]
  },
  {
   "cell_type": "code",
   "execution_count": null,
   "metadata": {
    "slideshow": {
     "slide_type": "skip"
    }
   },
   "outputs": [],
   "source": [
    "in1 = 5d\n",
    "in2 = 3d\n",
    "\n",
    "result = ops.op(\"test.groovyOp\").input(in1, in2).outType(Double.class).apply()"
   ]
  },
  {
   "cell_type": "markdown",
   "metadata": {
    "slideshow": {
     "slide_type": "skip"
    }
   },
   "source": [
    "Ops written as classes can depend on other ops by using the `@OpDependency` annotation:"
   ]
  },
  {
   "cell_type": "code",
   "execution_count": null,
   "metadata": {
    "slideshow": {
     "slide_type": "skip"
    }
   },
   "outputs": [],
   "source": [
    "import java.util.function.Function\n",
    "import java.util.List\n",
    "import org.scijava.ops.OpDependency\n",
    "import org.scijava.param.Parameter\n",
    "import org.scijava.struct.ItemIO\n",
    "\n",
    "@Parameter(key = \"inputList\", itemIO = ItemIO.INPUT)\n",
    "@Parameter(key = \"output\", itemIO = ItemIO.OUTPUT)\n",
    "class SampleMeanOp implements Function<List<Double>, Double> {\n",
    "    \n",
    "    @OpDependency(name = \"math.add\")\n",
    "    public Function<List<Double>, Double> sumOp;\n",
    "    \n",
    "    @OpDependency(name = \"stats.size\")\n",
    "    public Function<List<Double>, Double> sizeOp\n",
    "    \n",
    "    @Override\n",
    "    public Double apply(List<Double> input) {\n",
    "        return sumOp.apply(input) / sizeOp.apply(input) // mean = sum / size\n",
    "    }\n",
    "}"
   ]
  },
  {
   "cell_type": "markdown",
   "metadata": {
    "slideshow": {
     "slide_type": "skip"
    }
   },
   "source": [
    "Just as before, we _\"opify\"_ the class and register it into the `OpEnvironment`:"
   ]
  },
  {
   "cell_type": "code",
   "execution_count": null,
   "metadata": {
    "slideshow": {
     "slide_type": "skip"
    }
   },
   "outputs": [],
   "source": [
    "info = ops.env().opify(SampleMeanOp.class)\n",
    "ops.env().register(info, \"test.groovyMean\")"
   ]
  },
  {
   "cell_type": "markdown",
   "metadata": {
    "slideshow": {
     "slide_type": "skip"
    }
   },
   "source": [
    "We can then use our `SampleMeanOp`; Ops will automatically inject the required Op dependencies into our new Op (so long as the `OpService` knows about them)"
   ]
  },
  {
   "cell_type": "code",
   "execution_count": null,
   "metadata": {
    "slideshow": {
     "slide_type": "skip"
    }
   },
   "outputs": [],
   "source": [
    "// samples = [1d, 2d, 4d] as List<Double>\n",
    "\n",
    "// mean = ops.op(\"test.groovyMean\").input(samples).outType(Double.class).apply()\n",
    "\n",
    "java.util.function.BiFunction<Double, Double, Double> powOp = {Double base, Double exponent -> Math.pow(base, exponent)}\n",
    "powOp.apply(2, 3)"
   ]
  },
  {
   "cell_type": "markdown",
   "metadata": {
    "slideshow": {
     "slide_type": "skip"
    }
   },
   "source": [
    "### Ops as Fields\n",
    "\n",
    "Now let's write an Op as a Field:"
   ]
  },
  {
   "cell_type": "code",
   "execution_count": null,
   "metadata": {
    "slideshow": {
     "slide_type": "skip"
    }
   },
   "outputs": [],
   "source": [
    "import java.util.function.BiFunction\n",
    "import org.scijava.plugin.Plugin\n",
    "import org.scijava.ops.core.OpCollection\n",
    "import org.scijava.ops.OpField\n",
    "\n",
    "@Plugin(type = OpCollection.class) // tells Ops that this Class contains Field Ops\n",
    "class OpCollection {\n",
    "\n",
    "    @OpField(names = \"test.groovyPower\", params = \"base, exponent\") // tells Ops that this Field is an Op\n",
    "    public final BiFunction<Double, Double, Double> powOp = \n",
    "        { Double base, Double exponent -> Math.pow(base, exponent)}\n",
    "\n",
    "}"
   ]
  },
  {
   "cell_type": "markdown",
   "metadata": {
    "slideshow": {
     "slide_type": "skip"
    }
   },
   "source": [
    "The combination of the `@Plugin` and `@OpField` annotations allows SciJava Ops to discover this Op"
   ]
  },
  {
   "cell_type": "markdown",
   "metadata": {
    "slideshow": {
     "slide_type": "slide"
    }
   },
   "source": [
    "## Future Directions "
   ]
  },
  {
   "cell_type": "markdown",
   "metadata": {
    "slideshow": {
     "slide_type": "fragment"
    }
   },
   "source": [
    "1. **Improve Accessibility**:\n",
    "  * Expose SciJava Ops and ImageJ Ops2 in Fiji\n",
    "  * Support Op autocompletion within popular IDEs\n",
    "  * Further reduce code overhead when writing new Ops"
   ]
  },
  {
   "cell_type": "markdown",
   "metadata": {
    "slideshow": {
     "slide_type": "fragment"
    }
   },
   "source": [
    "2. **Op Utilities**:\n",
    "  * Progress reporting, Logging\n",
    "  * Op cancellation"
   ]
  },
  {
   "cell_type": "markdown",
   "metadata": {
    "slideshow": {
     "slide_type": "fragment"
    }
   },
   "source": [
    "3. **\"Opify\" more algorithms from our developer community**"
   ]
  },
  {
   "cell_type": "markdown",
   "metadata": {
    "slideshow": {
     "slide_type": "slide"
    }
   },
   "source": [
    "## Resources\n",
    "\n",
    "* SciJava Incubator Project https://github.com/scijava/incubator\n",
    "\n",
    "* ImageJ Website https://imagej.net\n",
    "\n",
    "* ImageJ Ops Tutorials https://github.com/imagej/tutorials\n",
    "\n",
    "* Scientific Imaging Forum https://forum.image.sc"
   ]
  }
 ],
 "metadata": {
  "celltoolbar": "Slideshow",
  "kernelspec": {
   "display_name": "Groovy",
   "language": "groovy",
   "name": "groovy"
  },
  "language_info": {
   "codemirror_mode": "groovy",
   "file_extension": ".groovy",
   "mimetype": "",
   "name": "Groovy",
   "nbconverter_exporter": "",
   "version": "2.5.6"
  },
  "toc": {
   "base_numbering": 1,
   "nav_menu": {},
   "number_sections": true,
   "sideBar": true,
   "skip_h1_title": true,
   "title_cell": "Table of Contents",
   "title_sidebar": "Contents",
   "toc_cell": false,
   "toc_position": {
    "height": "calc(100% - 180px)",
    "left": "10px",
    "top": "150px",
    "width": "307px"
   },
   "toc_section_display": true,
   "toc_window_display": false
  }
 },
 "nbformat": 4,
 "nbformat_minor": 2
}
